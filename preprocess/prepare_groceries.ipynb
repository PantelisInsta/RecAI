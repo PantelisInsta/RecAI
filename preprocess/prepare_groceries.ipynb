{
 "cells": [
  {
   "cell_type": "code",
   "execution_count": 1,
   "metadata": {},
   "outputs": [],
   "source": [
    "import os\n",
    "import numpy as np\n",
    "import pandas as pd"
   ]
  },
  {
   "cell_type": "code",
   "execution_count": 3,
   "metadata": {},
   "outputs": [
    {
     "name": "stdout",
     "output_type": "stream",
     "text": [
      "../resources/groceries\n"
     ]
    }
   ],
   "source": [
    "# Define save folder\n",
    "save_folder = os.path.join(os.pardir, 'resources', 'groceries')\n",
    "print(save_folder)"
   ]
  },
  {
   "cell_type": "code",
   "execution_count": 4,
   "metadata": {},
   "outputs": [],
   "source": [
    "grocery_items = pd.read_csv('grocery_items.csv', sep=\",\", engine='python')\n",
    "column_map = {'PRODUCT_NAME': 'title', 'PRODUCT_BRAND_NAME': 'brand', 'PRODUCT_ID': 'index',\n",
    "             'L4_CATEGORY': 'category', 'PRICE': 'price'}\n",
    "grocery_items.rename(columns=column_map, inplace=True)\n",
    "# drop columns that are not in the column map\n",
    "grocery_items.drop(grocery_items.columns.difference(list(column_map.values())).intersection(grocery_items.columns), axis=1, inplace=True)"
   ]
  },
  {
   "cell_type": "code",
   "execution_count": 5,
   "metadata": {},
   "outputs": [
    {
     "name": "stdout",
     "output_type": "stream",
     "text": [
      "Filtered out 533 items\n"
     ]
    },
    {
     "data": {
      "text/html": [
       "<div>\n",
       "<style scoped>\n",
       "    .dataframe tbody tr th:only-of-type {\n",
       "        vertical-align: middle;\n",
       "    }\n",
       "\n",
       "    .dataframe tbody tr th {\n",
       "        vertical-align: top;\n",
       "    }\n",
       "\n",
       "    .dataframe thead th {\n",
       "        text-align: right;\n",
       "    }\n",
       "</style>\n",
       "<table border=\"1\" class=\"dataframe\">\n",
       "  <thead>\n",
       "    <tr style=\"text-align: right;\">\n",
       "      <th></th>\n",
       "      <th>index</th>\n",
       "      <th>price</th>\n",
       "      <th>title</th>\n",
       "      <th>brand</th>\n",
       "      <th>category</th>\n",
       "      <th>id</th>\n",
       "    </tr>\n",
       "  </thead>\n",
       "  <tbody>\n",
       "    <tr>\n",
       "      <th>0</th>\n",
       "      <td>17011460</td>\n",
       "      <td>1.634000</td>\n",
       "      <td>Pizza Sauce, New York Style</td>\n",
       "      <td>DelGrosso</td>\n",
       "      <td>Sauces</td>\n",
       "      <td>1</td>\n",
       "    </tr>\n",
       "    <tr>\n",
       "      <th>1</th>\n",
       "      <td>30828654</td>\n",
       "      <td>4.650000</td>\n",
       "      <td>Assorted Chocolate Macarons</td>\n",
       "      <td>Specially Selected</td>\n",
       "      <td>Frozen Novelty Desserts</td>\n",
       "      <td>2</td>\n",
       "    </tr>\n",
       "    <tr>\n",
       "      <th>2</th>\n",
       "      <td>19750626</td>\n",
       "      <td>4.301111</td>\n",
       "      <td>Gentle Baby Lotion</td>\n",
       "      <td>Little Journey</td>\n",
       "      <td>Baby Lotions</td>\n",
       "      <td>3</td>\n",
       "    </tr>\n",
       "    <tr>\n",
       "      <th>3</th>\n",
       "      <td>20193327</td>\n",
       "      <td>4.493125</td>\n",
       "      <td>Soft Spreadable Cheese, Garden Vegetable</td>\n",
       "      <td>Alouette</td>\n",
       "      <td>Cheese Dips and Spreads</td>\n",
       "      <td>4</td>\n",
       "    </tr>\n",
       "    <tr>\n",
       "      <th>4</th>\n",
       "      <td>20725052</td>\n",
       "      <td>3.470000</td>\n",
       "      <td>Sharp Cheddar Cheese Spread</td>\n",
       "      <td>Emporium Selection</td>\n",
       "      <td>Cheese Dips and Spreads</td>\n",
       "      <td>5</td>\n",
       "    </tr>\n",
       "    <tr>\n",
       "      <th>5</th>\n",
       "      <td>28033040</td>\n",
       "      <td>4.680526</td>\n",
       "      <td>Non-GMO Grapeseed Oil</td>\n",
       "      <td>Simply Nature</td>\n",
       "      <td>Cooking Oils</td>\n",
       "      <td>6</td>\n",
       "    </tr>\n",
       "    <tr>\n",
       "      <th>6</th>\n",
       "      <td>20537082</td>\n",
       "      <td>2.334308</td>\n",
       "      <td>Peanut Butter Filled Cookies</td>\n",
       "      <td>Benton's</td>\n",
       "      <td>Packaged Baked Goods</td>\n",
       "      <td>7</td>\n",
       "    </tr>\n",
       "    <tr>\n",
       "      <th>7</th>\n",
       "      <td>28127404</td>\n",
       "      <td>5.290000</td>\n",
       "      <td>Italian Sausage With Roasted Potatoes, Peppers...</td>\n",
       "      <td>Bremer</td>\n",
       "      <td>Italian Sausage</td>\n",
       "      <td>8</td>\n",
       "    </tr>\n",
       "    <tr>\n",
       "      <th>8</th>\n",
       "      <td>25901190</td>\n",
       "      <td>0.673786</td>\n",
       "      <td>Organic Bananas</td>\n",
       "      <td>NaN</td>\n",
       "      <td>Bananas</td>\n",
       "      <td>9</td>\n",
       "    </tr>\n",
       "    <tr>\n",
       "      <th>9</th>\n",
       "      <td>20363182</td>\n",
       "      <td>3.490000</td>\n",
       "      <td>Mango Passion 100% Juice</td>\n",
       "      <td>Nature's Nectar</td>\n",
       "      <td>Fruit Juice Blends</td>\n",
       "      <td>10</td>\n",
       "    </tr>\n",
       "  </tbody>\n",
       "</table>\n",
       "</div>"
      ],
      "text/plain": [
       "      index     price                                              title  \\\n",
       "0  17011460  1.634000                        Pizza Sauce, New York Style   \n",
       "1  30828654  4.650000                        Assorted Chocolate Macarons   \n",
       "2  19750626  4.301111                                 Gentle Baby Lotion   \n",
       "3  20193327  4.493125           Soft Spreadable Cheese, Garden Vegetable   \n",
       "4  20725052  3.470000                        Sharp Cheddar Cheese Spread   \n",
       "5  28033040  4.680526                              Non-GMO Grapeseed Oil   \n",
       "6  20537082  2.334308                       Peanut Butter Filled Cookies   \n",
       "7  28127404  5.290000  Italian Sausage With Roasted Potatoes, Peppers...   \n",
       "8  25901190  0.673786                                    Organic Bananas   \n",
       "9  20363182  3.490000                           Mango Passion 100% Juice   \n",
       "\n",
       "                brand                 category  id  \n",
       "0           DelGrosso                   Sauces   1  \n",
       "1  Specially Selected  Frozen Novelty Desserts   2  \n",
       "2      Little Journey             Baby Lotions   3  \n",
       "3            Alouette  Cheese Dips and Spreads   4  \n",
       "4  Emporium Selection  Cheese Dips and Spreads   5  \n",
       "5       Simply Nature             Cooking Oils   6  \n",
       "6            Benton's     Packaged Baked Goods   7  \n",
       "7              Bremer          Italian Sausage   8  \n",
       "8                 NaN                  Bananas   9  \n",
       "9     Nature's Nectar       Fruit Juice Blends  10  "
      ]
     },
     "execution_count": 5,
     "metadata": {},
     "output_type": "execute_result"
    }
   ],
   "source": [
    "# Filtering logic\n",
    "old_len = len(grocery_items)\n",
    "# remove items that have no title\n",
    "grocery_items = grocery_items.dropna(subset=['title'])\n",
    "# remove items that have no category\n",
    "grocery_items = grocery_items.dropna(subset=['category'])\n",
    "# reset index\n",
    "grocery_items.reset_index(drop=True, inplace=True)\n",
    "# create index column\n",
    "grocery_items['id'] = np.arange(1, len(grocery_items) + 1)\n",
    "print(f\"Filtered out {old_len - len(grocery_items)} items\")\n",
    "grocery_items.head(10)\n"
   ]
  },
  {
   "cell_type": "code",
   "execution_count": 8,
   "metadata": {},
   "outputs": [],
   "source": [
    "# Save to save directory\n",
    "grocery_items.to_feather(os.path.join(save_folder, 'grocery_items.ftr'))"
   ]
  },
  {
   "cell_type": "code",
   "execution_count": 9,
   "metadata": {},
   "outputs": [],
   "source": [
    "# Create a placeholder item similarity matrix in numpy\n",
    "n_items = len(grocery_items)\n",
    "item_similarity = np.zeros((n_items, n_items))\n",
    "# Save it to .npy file in save_folder\n",
    "np.save(os.path.join(save_folder, 'item_sim.npy'), item_similarity)"
   ]
  },
  {
   "cell_type": "code",
   "execution_count": 10,
   "metadata": {},
   "outputs": [],
   "source": [
    "# Read the saved file\n",
    "items = pd.read_feather(os.path.join(save_folder, 'grocery_items.ftr'))"
   ]
  },
  {
   "cell_type": "code",
   "execution_count": 11,
   "metadata": {},
   "outputs": [
    {
     "data": {
      "text/html": [
       "<div>\n",
       "<style scoped>\n",
       "    .dataframe tbody tr th:only-of-type {\n",
       "        vertical-align: middle;\n",
       "    }\n",
       "\n",
       "    .dataframe tbody tr th {\n",
       "        vertical-align: top;\n",
       "    }\n",
       "\n",
       "    .dataframe thead th {\n",
       "        text-align: right;\n",
       "    }\n",
       "</style>\n",
       "<table border=\"1\" class=\"dataframe\">\n",
       "  <thead>\n",
       "    <tr style=\"text-align: right;\">\n",
       "      <th></th>\n",
       "      <th>index</th>\n",
       "      <th>price</th>\n",
       "      <th>title</th>\n",
       "      <th>brand</th>\n",
       "      <th>category</th>\n",
       "      <th>id</th>\n",
       "    </tr>\n",
       "  </thead>\n",
       "  <tbody>\n",
       "    <tr>\n",
       "      <th>0</th>\n",
       "      <td>17011460</td>\n",
       "      <td>1.634000</td>\n",
       "      <td>Pizza Sauce, New York Style</td>\n",
       "      <td>DelGrosso</td>\n",
       "      <td>Sauces</td>\n",
       "      <td>1</td>\n",
       "    </tr>\n",
       "    <tr>\n",
       "      <th>1</th>\n",
       "      <td>30828654</td>\n",
       "      <td>4.650000</td>\n",
       "      <td>Assorted Chocolate Macarons</td>\n",
       "      <td>Specially Selected</td>\n",
       "      <td>Frozen Novelty Desserts</td>\n",
       "      <td>2</td>\n",
       "    </tr>\n",
       "    <tr>\n",
       "      <th>2</th>\n",
       "      <td>19750626</td>\n",
       "      <td>4.301111</td>\n",
       "      <td>Gentle Baby Lotion</td>\n",
       "      <td>Little Journey</td>\n",
       "      <td>Baby Lotions</td>\n",
       "      <td>3</td>\n",
       "    </tr>\n",
       "  </tbody>\n",
       "</table>\n",
       "</div>"
      ],
      "text/plain": [
       "      index     price                        title               brand  \\\n",
       "0  17011460  1.634000  Pizza Sauce, New York Style           DelGrosso   \n",
       "1  30828654  4.650000  Assorted Chocolate Macarons  Specially Selected   \n",
       "2  19750626  4.301111           Gentle Baby Lotion      Little Journey   \n",
       "\n",
       "                  category  id  \n",
       "0                   Sauces   1  \n",
       "1  Frozen Novelty Desserts   2  \n",
       "2             Baby Lotions   3  "
      ]
     },
     "execution_count": 11,
     "metadata": {},
     "output_type": "execute_result"
    }
   ],
   "source": [
    "items.head(3)"
   ]
  }
 ],
 "metadata": {
  "kernelspec": {
   "display_name": "Python 3",
   "language": "python",
   "name": "python3"
  },
  "language_info": {
   "codemirror_mode": {
    "name": "ipython",
    "version": 3
   },
   "file_extension": ".py",
   "mimetype": "text/x-python",
   "name": "python",
   "nbconvert_exporter": "python",
   "pygments_lexer": "ipython3",
   "version": "3.8.19"
  }
 },
 "nbformat": 4,
 "nbformat_minor": 2
}
